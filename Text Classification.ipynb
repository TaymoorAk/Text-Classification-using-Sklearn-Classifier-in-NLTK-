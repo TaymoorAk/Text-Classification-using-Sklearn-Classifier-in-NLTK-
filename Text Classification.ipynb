{
 "cells": [
  {
   "cell_type": "markdown",
   "metadata": {},
   "source": [
    "## Importing Libraries"
   ]
  },
  {
   "cell_type": "code",
   "execution_count": 1,
   "metadata": {},
   "outputs": [],
   "source": [
    "import nltk\n",
    "import numpy as np\n",
    "import random"
   ]
  },
  {
   "cell_type": "code",
   "execution_count": 2,
   "metadata": {},
   "outputs": [
    {
     "name": "stdout",
     "output_type": "stream",
     "text": [
      "showing info https://raw.githubusercontent.com/nltk/nltk_data/gh-pages/index.xml\n"
     ]
    },
    {
     "data": {
      "text/plain": [
       "True"
      ]
     },
     "execution_count": 2,
     "metadata": {},
     "output_type": "execute_result"
    }
   ],
   "source": [
    "#download movie review corpus \n",
    "nltk.download()"
   ]
  },
  {
   "cell_type": "code",
   "execution_count": 3,
   "metadata": {},
   "outputs": [],
   "source": [
    "from nltk.corpus import movie_reviews"
   ]
  },
  {
   "cell_type": "code",
   "execution_count": 8,
   "metadata": {},
   "outputs": [
    {
     "name": "stdout",
     "output_type": "stream",
     "text": [
      "Number of Documents : 2000\n",
      "First Review : (['like', 'a', 'good', 'action', 'film', 'should', ',', '\"', 'metro', '\"', 'has', 'action', 'that', 'keeps', 'you', 'involved', '.', 'some', 'action', 'films', 'have', 'action', 'sequences', 'that', 'are', 'so', 'conventional', ',', 'our', 'attention', 'is', 'detracted', 'and', 'diverted', 'by', 'other', 'thoughts', '.', '\"', 'the', 'ghost', 'in', 'the', 'darkness', ',', '\"', 'which', 'opened', 'a', 'few', 'months', 'ago', ',', 'is', 'a', 'film', 'that', 's', 'action', 'was', 'so', 'bland', 'and', 'uninvolving', ',', 'it', 'not', 'only', 'invited', 'my', 'thoughts', 'to', 'divert', 'me', ',', 'it', 'nearly', 'put', 'me', 'asleep', '.', 'but', '\"', 'metro', '\"', 'is', 'one', 'of', 'the', 'best', 'action', 'films', 'in', 'a', 'while', '.', 'it', 'is', 'hip', ',', 'sharp', ',', 'nifty', ',', 'and', 'has', 'nice', 'little', 'pieces', 'of', 'suspense', 'and', 'comedy', '.', 'eddie', 'murphy', 'was', 'in', 'bad', 'shape', 'for', 'a', 'while', '.', 'and', 'this', 'invites', 'me', 'to', 'mention', 'last', 'year', 's', '\"', 'the', 'nutty', 'professor', ',', '\"', 'which', 'was', 'his', 'blessed', 'revival', 'back', 'to', 'the', 'position', 'at', 'which', 'he', 'used', 'to', 'be', '.', '\"', 'metro', '\"', 'happens', 'to', 'be', 'a', 'lot', 'better', 'than', 'any', 'film', 'in', 'the', '\"', 'beverly', 'hills', 'cop', '\"', 'series', '.', 'that', 'is', 'because', '\"', 'metro', '\"', 'takes', 'itself', 'seriously', ',', 'but', 'doesn', 't', 'prevent', 'itself', 'from', 'having', 'a', 'little', 'fun', '.', 'eddie', 'murphy', 'is', 'at', 'his', 'best', 'in', 'the', 'roles', 'of', 'responsible', ',', 'and', 'controlled', 'people', '.', 'the', '\"', 'beverly', 'hills', 'cop', '\"', 'movies', 'all', 'featured', 'eddie', 'as', 'a', 'reckless', ',', 'wild', 'cop', ',', 'always', 'crossing', 'the', 'line', 'by', 'just', 'an', 'inch', '.', 'in', '\"', 'metro', '\"', 'he', 'plays', 'a', 'hostage', 'negotiator', ',', 'so', 'negotiation', 'is', 'his', 'job', ',', 'not', 'his', 'hobby', 'or', 'his', 'preferred', 'way', 'out', 'of', 'trouble', '.', 'his', 'character', 'in', '\"', 'metro', '\"', 'takes', 'himself', 'seriously', '.', 'eddie', 'murphy', 's', 'mischievous', 'trademark', 'grin', 'is', 'hardly', 'anywhere', 'to', 'be', 'found', 'in', '\"', 'metro', ',', '\"', 'and', 'perhaps', 'it', 'is', 'quite', 'better', 'off', 'that', 'way', '.', 'murphy', 'plays', 'scott', 'roper', ',', 'and', 'as', 'i', 'previously', 'mentioned', ',', 'he', 'is', 'a', 'san', 'francisco', 'hostage', 'negotiator', '.', 'in', 'the', 'first', 'tense', 'situation', 'in', 'the', 'film', ',', 'we', 'are', 'introduced', 'to', 'roper', 's', 'kind', 'of', 'work', ',', 'as', 'he', 'tries', 'to', 'calm', 'down', 'a', 'confused', ',', 'unkempt', 'young', 'criminal', 'who', 'has', 'taken', 'captive', 'the', 'entire', 'capacity', 'of', 'the', 'san', 'francisco', 'bank', 'he', 'is', 'holding', 'up', '.', 'murphy', 'handles', 'the', 'scene', 'seriously', ',', 'without', 'his', 'usual', 'happy', '-', 'go', '-', 'lucky', ',', 'misfit', 'humor', '.', 'the', 'film', 'develops', 'when', 'its', 'villain', 'is', 'established', ',', 'and', 'the', 'villain', 'here', 'is', 'the', 'beguiling', 'michael', 'korda', ',', 'a', 'jewel', 'thief', ',', 'and', 'murderer', 'who', 'likes', 'to', 'let', 'cops', 'know', 'of', 'his', 'hostage', 'fatalities', 'by', 'giving', 'them', 'the', 'ear', 'of', 'the', 'victim', '.', '\"', 'metro', '\"', 'takes', 'different', 'twists', 'and', 'slight', 'turns', ',', 'and', 'there', 'is', 'one', 'great', ',', 'virtuoso', 'chase', 'scene', ',', 'involving', 'the', 'a', 'cable', 'car', '.', 'cars', 'flip', '.', 'cars', 'crash', '.', 'cars', 'turn', 'over', '.', 'and', 'it', 'is', 'done', 'so', 'good', 'in', 'this', 'film', ',', 'i', 'was', 'reminded', 'of', '\"', 'speed', ',', '\"', 'and', 'the', 'speeding', 'bus', 'that', 'couldn', 't', 'go', 'under', 'fifty', 'mile', 'per', 'hour', 'for', 'very', 'significant', 'reasons', '.', 'there', 'are', 'also', 'some', 'other', 'good', 'scenes', 'in', '\"', 'metro', '\"', 'that', 'a', 'lot', 'of', 'films', 'would', 'rather', 'choose', 'not', 'to', 'have', '.', 'scenes', 'like', 'the', 'one', 'with', 'roper', 'and', 'his', 'new', 'partner', 'are', 'at', 'the', 'horse', 'track', 'roper', 'is', 'a', 'gambler', 'who', 'knows', 'all', 'the', 'tricks', 'and', 'roper', 'teaches', 'his', 'partner', 'a', 'few', 'little', 'methods', 'of', 'betting', 'and', 'winning', '.', 'of', 'course', ',', 'the', 'writers', 'tried', 'to', 'disguise', 'the', 'scene', 'as', 'being', 'insignificant', 'by', 'having', 'roper', 'draw', 'parallels', 'between', 'hostage', 'negotiation', 'and', 'gambling', '.', 'the', 'scenes', 'between', 'roper', 'and', 'his', 'girlfriend', 'are', 'nice', ',', 'too', '.', 'those', 'are', 'the', 'scenes', 'that', 'make', 'up', '\"', 'metro', ',', '\"', 'which', 'is', 'mainly', 'about', 'eddie', 'murphy', 's', 'maturing', 'as', 'a', 'personality', '.', 'the', 'actor', 'that', 'i', 'most', 'enjoyed', 'seeing', 'in', '\"', 'metro', '\"', 'was', 'michael', 'rapaport', ',', 'who', 'plays', 'roper', 's', 'new', 'partner', ',', 'a', 'lip', '-', 'reading', ',', 'book', '-', 'skimming', 'genius', ',', 'and', 'a', 'master', 'of', 'observation', '.', 'it', 'was', 'not', 'the', 'actor', 's', 'presence', 'that', 'pleased', 'me', 'as', 'much', 'as', 'the', 'role', 'he', 'was', 'cast', 'in', 'the', 'role', 'of', 'a', 'proclaimed', 'genius', '.', 'rapaport', 'is', 'an', 'actor', 'who', 'i', 'usually', 'see', 'in', 'the', 'role', 'of', 'the', 'dimwit', 'the', 'really', ',', 'really', 'dopey', 'dimwit', '.', 'i', 'hardly', 'recognized', 'him', 'in', '\"', 'metro', ',', '\"', 'and', 'it', 'was', 'quite', 'a', 'joy', 'to', 'be', 'able', 'to', 'see', 'him', 'in', 'a', 'role', 'like', 'this', 'i', 'feel', 'that', 'i', 'respect', 'him', 'more', '.', 'there', 'are', 'two', 'main', 'types', 'of', 'villains', 'in', 'movies', 'like', 'this', ':', 'the', 'ones', 'that', 'are', 'part', 'of', 'the', 'story', ',', 'and', 'the', 'ones', 'that', 'are', 'devices', '.', 'the', 'villain', 'in', '\"', 'metro', '\"', 'is', 'no', 'more', 'than', 'a', 'device', ',', 'but', 'he', 'is', 'a', 'darn', 'good', 'villain', 'nonetheless', '.', 'he', 'is', 'played', 'by', 'michael', 'wincott', ',', 'whose', 'voice', 'is', 'pushed', 'out', 'in', 'a', 'abraded', 'rasp', ',', 'as', 'if', 'he', 'smokes', 'a', 'cigarette', 'between', 'every', 'take', '.', 'wincott', 'makes', 'his', 'villain', ',', 'korda', ',', 'as', 'mean', 'as', 'could', 'be', ',', 'the', 'classic', 'type', 'of', 'villain', 'who', 'would', 'push', 'an', 'old', 'lady', 'down', 'a', 'flight', 'of', 'stairs', 'just', 'for', 'kicks', ',', 'like', 'richard', 'widmark', 'in', '\"', 'kiss', 'of', 'death', '.', '\"', 'and', ',', 'in', 'addition', ',', 'wincott', 's', 'physical', 'appearance', 'and', 'mannerisms', ',', 'in', 'the', 'film', ',', 'actually', 'reminded', 'my', 'of', 'an', 'arrogant', 'friend', 'i', 'use', 'to', 'have', ',', 'who', 'is', 'no', 'longer', 'on', 'my', 'good', 'list', '.', 'i', 'liked', '\"', 'metro', ',', '\"', 'and', 'i', 'do', 'not', 'think', 'would', 'have', 'worked', 'with', 'any', 'other', 'actor', 'but', 'eddie', 'murphy', '.', 'his', 'past', 'roles', 'were', 'the', 'great', 'ones', 'but', 'they', 'were', 'also', 'a', 'precursor', 'to', 'the', 'maturing', 'that', 'would', 'later', 'take', 'place', ',', 'possibly', 'from', 'murphy', 's', 'growing', 'as', 'a', 'person', ',', 'now', 'having', 'a', 'family', '.', '\"', 'metro', '\"', 'is', 'a', 'no', '-', 'nonsense', 'movie', '.', 'it', 'works', 'as', 'a', 'buddy', 'movie', ',', 'which', 'it', 'does', 'not', 'overplay', '.', 'it', 'works', 'as', 'a', 'dry', 'comedy', ',', 'which', 'it', 'does', 'not', 'overplay', '.', 'it', 'works', 'as', 'a', 'suspense', 'film', ',', 'which', 'it', 'does', 'not', 'overplay', '.', 'and', 'it', 'works', 'as', 'an', 'action', 'film', ',', 'where', 'it', 'does', 'have', 'a', 'tendency', 'to', 'occasionally', 'go', 'all', '-', 'out', '.', 'but', 'who', 'cares', '?', 'it', 'still', 'remains', 'serious', ',', 'and', 'it', 'does', 'not', 'overdo', 'itself', '.', 'oh', ',', 'and', 'there', 'were', 'plenty', 'of', 'explosions', 'in', '\"', 'metro', ',', '\"', 'as', 'well', '.', 'how', 'nice', 'it', 'was', 'of', 'the', 'filmmakers', 'to', 'give', 'us', 'those', '.', 'if', 'there', 'is', 'one', 'major', 'objection', 'i', 'had', 'to', '\"', 'metro', '\"', ',', 'it', 'was', 'the', 'length', ',', 'an', 'area', 'where', 'a', 'lot', 'of', 'action', 'films', 'seem', 'to', 'wear', 'out', 'their', 'welcomes', '.', '\"', 'metro', '\"', 'is', 'a', 'film', 'that', 'lasted', 'a', 'little', 'too', 'long', ',', 'but', 'it', 'was', 'still', 'entertaining', ',', 'and', 'it', 'gave', 'me', 'something', 'to', 'do', 'while', 'i', 'waited', 'for', 'it', 'to', 'end', '.', 'paul', 'haynes', '\"', '>'], 'neg')\n"
     ]
    },
    {
     "name": "stdout",
     "output_type": "stream",
     "text": [
      "Most common words: [(',', 77717), ('the', 76529), ('.', 65876), ('a', 38106), ('and', 35576), ('of', 34123), ('to', 31937), (\"'\", 30585), ('is', 25195), ('in', 21822), ('s', 18513), ('\"', 17612), ('it', 16107), ('that', 15924), ('-', 15595)]\n",
      "The word happy:215\n"
     ]
    }
   ],
   "source": [
    "#build the list of documents\n",
    "documents = [(list(movie_reviews.words(fileid)),category)\n",
    "            for category in movie_reviews.categories()\n",
    "            for fileid in movie_reviews.fileids(category)]\n",
    "\n",
    "#shuffle the documents\n",
    "random.shuffle(documents)\n",
    "\n",
    "print('Number of Documents : {}'.format(len(documents)))\n",
    "print('First Review : {}'.format(documents[0]))\n",
    "\n",
    "#Putting words in list\n",
    "all_words = []\n",
    "for w in movie_reviews.words():\n",
    "    all_words.append(w.lower())\n",
    "    \n",
    "all_words = nltk.FreqDist(all_words)\n",
    "\n",
    "print('Most common words: {}'.format(all_words.most_common(15)))\n",
    "print('The word happy:{}'.format(all_words[\"happy\"]))"
   ]
  },
  {
   "cell_type": "code",
   "execution_count": 9,
   "metadata": {},
   "outputs": [],
   "source": [
    "#We'll use the 4000 most common words as features\n",
    "word_features =list(all_words.keys())[:4000]"
   ]
  },
  {
   "cell_type": "markdown",
   "metadata": {},
   "source": [
    "## Finding Features"
   ]
  },
  {
   "cell_type": "code",
   "execution_count": 11,
   "metadata": {},
   "outputs": [
    {
     "name": "stdout",
     "output_type": "stream",
     "text": [
      "plot\n",
      ":\n",
      "two\n",
      "teen\n",
      "couples\n",
      "go\n",
      "to\n",
      "a\n",
      "church\n",
      "party\n",
      ",\n",
      "drink\n",
      "and\n",
      "then\n",
      "drive\n",
      ".\n",
      "they\n",
      "get\n",
      "into\n",
      "an\n",
      "accident\n",
      "one\n",
      "of\n",
      "the\n",
      "guys\n",
      "dies\n",
      "but\n",
      "his\n",
      "girlfriend\n",
      "continues\n",
      "see\n",
      "him\n",
      "in\n",
      "her\n",
      "life\n",
      "has\n",
      "nightmares\n",
      "what\n",
      "'\n",
      "s\n",
      "deal\n",
      "?\n",
      "watch\n",
      "movie\n",
      "\"\n",
      "sorta\n",
      "find\n",
      "out\n",
      "critique\n",
      "mind\n",
      "-\n",
      "fuck\n",
      "for\n",
      "generation\n",
      "that\n",
      "touches\n",
      "on\n",
      "very\n",
      "cool\n",
      "idea\n",
      "presents\n",
      "it\n",
      "bad\n",
      "package\n",
      "which\n",
      "is\n",
      "makes\n",
      "this\n",
      "review\n",
      "even\n",
      "harder\n",
      "write\n",
      "since\n",
      "i\n",
      "generally\n",
      "applaud\n",
      "films\n",
      "attempt\n",
      "break\n",
      "mold\n",
      "mess\n",
      "with\n",
      "your\n",
      "head\n",
      "such\n",
      "(\n",
      "lost\n",
      "highway\n",
      "&\n",
      "memento\n",
      ")\n",
      "there\n",
      "are\n",
      "good\n",
      "ways\n",
      "making\n",
      "all\n",
      "types\n",
      "these\n",
      "folks\n",
      "just\n",
      "didn\n",
      "t\n",
      "snag\n",
      "correctly\n",
      "seem\n",
      "have\n",
      "taken\n",
      "pretty\n",
      "neat\n",
      "concept\n",
      "executed\n",
      "terribly\n",
      "so\n",
      "problems\n",
      "well\n",
      "its\n",
      "main\n",
      "problem\n",
      "simply\n",
      "too\n",
      "jumbled\n",
      "starts\n",
      "off\n",
      "normal\n",
      "downshifts\n",
      "fantasy\n",
      "world\n",
      "you\n",
      "as\n",
      "audience\n",
      "member\n",
      "no\n",
      "going\n",
      "dreams\n",
      "characters\n",
      "coming\n",
      "back\n",
      "from\n",
      "dead\n",
      "others\n",
      "who\n",
      "look\n",
      "like\n",
      "strange\n",
      "apparitions\n",
      "disappearances\n",
      "looooot\n",
      "chase\n",
      "scenes\n",
      "tons\n",
      "weird\n",
      "things\n",
      "happen\n",
      "most\n",
      "not\n",
      "explained\n",
      "now\n",
      "personally\n",
      "don\n",
      "trying\n",
      "unravel\n",
      "film\n",
      "every\n",
      "when\n",
      "does\n",
      "give\n",
      "me\n",
      "same\n",
      "clue\n",
      "over\n",
      "again\n",
      "kind\n",
      "fed\n",
      "up\n",
      "after\n",
      "while\n",
      "biggest\n",
      "obviously\n",
      "got\n",
      "big\n",
      "secret\n",
      "hide\n",
      "seems\n",
      "want\n",
      "completely\n",
      "until\n",
      "final\n",
      "five\n",
      "minutes\n",
      "do\n",
      "make\n",
      "entertaining\n",
      "thrilling\n",
      "or\n",
      "engaging\n",
      "meantime\n",
      "really\n",
      "sad\n",
      "part\n",
      "arrow\n",
      "both\n",
      "dig\n",
      "flicks\n",
      "we\n",
      "actually\n",
      "figured\n",
      "by\n",
      "half\n",
      "way\n",
      "point\n",
      "strangeness\n",
      "did\n",
      "start\n",
      "little\n",
      "bit\n",
      "sense\n",
      "still\n",
      "more\n",
      "guess\n",
      "bottom\n",
      "line\n",
      "movies\n",
      "should\n",
      "always\n",
      "sure\n",
      "before\n",
      "given\n",
      "password\n",
      "enter\n",
      "understanding\n",
      "mean\n",
      "showing\n",
      "melissa\n",
      "sagemiller\n",
      "running\n",
      "away\n",
      "visions\n",
      "about\n",
      "20\n",
      "throughout\n",
      "plain\n",
      "lazy\n",
      "!\n",
      "okay\n",
      "people\n",
      "chasing\n",
      "know\n",
      "need\n",
      "how\n",
      "giving\n",
      "us\n",
      "different\n",
      "offering\n",
      "further\n",
      "insight\n",
      "down\n",
      "apparently\n",
      "studio\n",
      "took\n",
      "director\n",
      "chopped\n",
      "themselves\n",
      "shows\n",
      "might\n",
      "ve\n",
      "been\n",
      "decent\n",
      "here\n",
      "somewhere\n",
      "suits\n",
      "decided\n",
      "turning\n",
      "music\n",
      "video\n",
      "edge\n",
      "would\n",
      "actors\n",
      "although\n",
      "wes\n",
      "bentley\n",
      "seemed\n",
      "be\n",
      "playing\n",
      "exact\n",
      "character\n",
      "he\n",
      "american\n",
      "beauty\n",
      "only\n",
      "new\n",
      "neighborhood\n",
      "my\n",
      "kudos\n",
      "holds\n",
      "own\n",
      "entire\n",
      "feeling\n",
      "unraveling\n",
      "overall\n",
      "doesn\n",
      "stick\n",
      "because\n",
      "entertain\n",
      "confusing\n",
      "rarely\n",
      "excites\n",
      "feels\n",
      "redundant\n",
      "runtime\n",
      "despite\n",
      "ending\n",
      "explanation\n",
      "craziness\n",
      "came\n",
      "oh\n",
      "horror\n",
      "slasher\n",
      "flick\n",
      "packaged\n",
      "someone\n",
      "assuming\n",
      "genre\n",
      "hot\n",
      "kids\n",
      "also\n",
      "wrapped\n",
      "production\n",
      "years\n",
      "ago\n",
      "sitting\n",
      "shelves\n",
      "ever\n",
      "whatever\n",
      "skip\n",
      "where\n",
      "joblo\n",
      "nightmare\n",
      "elm\n",
      "street\n",
      "3\n",
      "7\n",
      "/\n",
      "10\n",
      "blair\n",
      "witch\n",
      "2\n",
      "crow\n",
      "9\n",
      "salvation\n",
      "4\n",
      "stir\n",
      "echoes\n",
      "8\n"
     ]
    }
   ],
   "source": [
    "# Build a find_features function that will determine which of the 4000 features are contained in the review\n",
    "def find_features(document):\n",
    "    words = set(document)\n",
    "    features = {}\n",
    "    \n",
    "    for w in word_features:\n",
    "        features[w] = (w in words)\n",
    "        \n",
    "    return features\n",
    "\n",
    "\n",
    "#Lets use an example from negative review\n",
    "features = find_features(movie_reviews.words('neg/cv000_29416.txt'))\n",
    "for key, value in features.items():\n",
    "    if value == True:\n",
    "        print(key)"
   ]
  },
  {
   "cell_type": "code",
   "execution_count": 13,
   "metadata": {},
   "outputs": [],
   "source": [
    "# now lets do it for all the documents\n",
    "featuresets = [(find_features(rev),category) for (rev, category) in documents]"
   ]
  },
  {
   "cell_type": "markdown",
   "metadata": {},
   "source": [
    "## Creating Training and Testing sets"
   ]
  },
  {
   "cell_type": "code",
   "execution_count": 14,
   "metadata": {},
   "outputs": [],
   "source": [
    "seed = 1\n",
    "#split the dataset into training and test set\n",
    "from sklearn.model_selection import train_test_split\n",
    "\n",
    "training, testing = train_test_split(featuresets, test_size = 0.25, random_state = seed)"
   ]
  },
  {
   "cell_type": "code",
   "execution_count": 15,
   "metadata": {},
   "outputs": [
    {
     "name": "stdout",
     "output_type": "stream",
     "text": [
      "1500\n",
      "500\n"
     ]
    }
   ],
   "source": [
    "print(len(training))\n",
    "print(len(testing))"
   ]
  },
  {
   "cell_type": "markdown",
   "metadata": {},
   "source": [
    "## Using Support Vector Classifier in NLTK"
   ]
  },
  {
   "cell_type": "code",
   "execution_count": 17,
   "metadata": {},
   "outputs": [],
   "source": [
    "#Using sklearn algorithms in NLTK\n",
    "from nltk.classify.scikitlearn import SklearnClassifier\n",
    "from sklearn.svm import SVC"
   ]
  },
  {
   "cell_type": "code",
   "execution_count": 18,
   "metadata": {},
   "outputs": [],
   "source": [
    "model = SklearnClassifier(SVC(kernel = 'linear'))"
   ]
  },
  {
   "cell_type": "code",
   "execution_count": 19,
   "metadata": {},
   "outputs": [
    {
     "data": {
      "text/plain": [
       "<SklearnClassifier(SVC(C=1.0, cache_size=200, class_weight=None, coef0=0.0,\n",
       "  decision_function_shape='ovr', degree=3, gamma='auto', kernel='linear',\n",
       "  max_iter=-1, probability=False, random_state=None, shrinking=True,\n",
       "  tol=0.001, verbose=False))>"
      ]
     },
     "execution_count": 19,
     "metadata": {},
     "output_type": "execute_result"
    }
   ],
   "source": [
    "model.train(training)"
   ]
  },
  {
   "cell_type": "markdown",
   "metadata": {},
   "source": [
    "## Checking Accuracy"
   ]
  },
  {
   "cell_type": "code",
   "execution_count": 20,
   "metadata": {},
   "outputs": [
    {
     "name": "stdout",
     "output_type": "stream",
     "text": [
      "SVC Accuracy: 0.81\n"
     ]
    }
   ],
   "source": [
    "#test on the testing dataset \n",
    "accuracy = nltk.classify.accuracy(model, testing)\n",
    "print('SVC Accuracy: {}'.format(accuracy))"
   ]
  },
  {
   "cell_type": "markdown",
   "metadata": {},
   "source": [
    "### So we obtained  accuracy of 80%"
   ]
  }
 ],
 "metadata": {
  "kernelspec": {
   "display_name": "Python 3",
   "language": "python",
   "name": "python3"
  },
  "language_info": {
   "codemirror_mode": {
    "name": "ipython",
    "version": 3
   },
   "file_extension": ".py",
   "mimetype": "text/x-python",
   "name": "python",
   "nbconvert_exporter": "python",
   "pygments_lexer": "ipython3",
   "version": "3.6.5"
  }
 },
 "nbformat": 4,
 "nbformat_minor": 2
}
